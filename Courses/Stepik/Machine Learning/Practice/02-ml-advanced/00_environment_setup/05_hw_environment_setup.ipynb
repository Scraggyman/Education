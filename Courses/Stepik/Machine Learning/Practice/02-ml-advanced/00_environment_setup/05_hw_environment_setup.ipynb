{
 "cells": [
  {
   "cell_type": "markdown",
   "metadata": {},
   "source": [
    "# Домашнее задание по настройке окружения\n",
    "\n",
    "1. Установите Linux на свой компьютер, используя [инструкции из теории](01_linux/01_tt_linux_setup.md).\n",
    "2. Установите [Базовые программы](01_linux/03_tt_install_utils.md).\n",
    "3. Установите [python с помощью pyenv](03_python_setup/01_tt_pyenv.md).\n",
    "4. Установите пакеты через pip, как написано в [тут](03_python_setup/02_tt_pip.md).\n",
    "4. Получите доступ к вашему репозиторию в gitlab. Если для вас не появился репозиторий, то срочно уведомите преподавателя.\n",
    "5. Склонируйте к себе этот репозитоий. Там уже настроена базовая структура проекта. Дополнительно про струткуру python проекта читайте [тут](01_tt_project_structure.md).\n",
    "6. Создайте отдельную ветку `00_environment_setup`.\n",
    "7. Настройте gitignore, editorconfig, requirements файлы, как [в материалах](01_tt_project_structure.md).\n",
    "8. Скачайте этот файл и выполните все ячейки.\n",
    "\n",
    "Если вы собираетесь работать весь курс в google colab, то задание 1, 2, 3 не обязательные. Задание 4 и 8 надо делать в google colab.\n",
    "\n",
    "В гугл колабе пакеты ставятся через `!pip instal .... и тут пакеты ....`"
   ]
  },
  {
   "cell_type": "code",
   "execution_count": null,
   "metadata": {},
   "outputs": [],
   "source": [
    "!which pip"
   ]
  },
  {
   "cell_type": "code",
   "execution_count": null,
   "metadata": {},
   "outputs": [],
   "source": [
    "!which python"
   ]
  },
  {
   "cell_type": "code",
   "execution_count": null,
   "metadata": {},
   "outputs": [],
   "source": [
    "!python --version"
   ]
  },
  {
   "cell_type": "code",
   "execution_count": null,
   "metadata": {},
   "outputs": [],
   "source": [
    "import numpy as np\n",
    "import pandas as pd\n",
    "import matplotlib\n",
    "import seaborn as sns\n",
    "import sklearn\n",
    "import IPython"
   ]
  },
  {
   "cell_type": "code",
   "execution_count": null,
   "metadata": {},
   "outputs": [],
   "source": [
    "np.__version__"
   ]
  },
  {
   "cell_type": "code",
   "execution_count": null,
   "metadata": {},
   "outputs": [],
   "source": [
    "pd.__version__"
   ]
  },
  {
   "cell_type": "code",
   "execution_count": null,
   "metadata": {},
   "outputs": [],
   "source": [
    "matplotlib.__version__"
   ]
  },
  {
   "cell_type": "code",
   "execution_count": null,
   "metadata": {},
   "outputs": [],
   "source": [
    "sns.__version__"
   ]
  },
  {
   "cell_type": "code",
   "execution_count": null,
   "metadata": {},
   "outputs": [],
   "source": [
    "sklearn.__version__"
   ]
  },
  {
   "cell_type": "code",
   "execution_count": null,
   "metadata": {},
   "outputs": [],
   "source": [
    "PIL.__version__"
   ]
  },
  {
   "cell_type": "code",
   "execution_count": null,
   "metadata": {},
   "outputs": [],
   "source": [
    "IPython.display.Image(\"https://i.imgur.com/1nN1uak.jpg\")"
   ]
  }
 ],
 "metadata": {
  "kernelspec": {
   "display_name": "Python 3",
   "language": "python",
   "name": "python3"
  },
  "language_info": {
   "codemirror_mode": {
    "name": "ipython",
    "version": 3
   },
   "file_extension": ".py",
   "mimetype": "text/x-python",
   "name": "python",
   "nbconvert_exporter": "python",
   "pygments_lexer": "ipython3",
   "version": "3.9.1"
  }
 },
 "nbformat": 4,
 "nbformat_minor": 4
}
