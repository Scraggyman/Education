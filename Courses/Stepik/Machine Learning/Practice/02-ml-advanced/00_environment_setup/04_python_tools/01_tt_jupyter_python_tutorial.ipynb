{
 "cells": [
  {
   "cell_type": "markdown",
   "metadata": {},
   "source": [
    "# Jupyter tutorial\n",
    "\n",
    "В этом курсе мы в основном будем пользоваться jupyter, как IDE для программирования на Python. Почему не что-то другое? Ответ прост:\n",
    "\n",
    "- Jupyter - это Web IDE, поэтому её можно развернуть на удаленном сервере с более мощным железом, а писать код можно на ноутбуке\n",
    "- Результаты выполнения команд выводятся в красивом формате\n",
    "- Фактически это [REPL](https://ru.wikipedia.org/wiki/REPL) - *read-eval-print loop*\n",
    "- Можно показывать графики, картинки, проигрывать звук прямо здесь в окне браузера\n",
    "- Поддержка Markdown для документации\n",
    "- Поддержка $\\LaTeX$ и формул в mathJax $\\frac{a}{b}$\n",
    "- Нотубуки можно превращать в слайдшоу\n",
    "- Можно их скомпилировать PDF отчет."
   ]
  },
  {
   "cell_type": "markdown",
   "metadata": {},
   "source": [
    "Jupyter ноутбуки можно смотреть в gitlab. Но иногда исчезают картинки ([тут причина описана](https://gitlab.com/gitlab-org/gitlab/-/issues/18540)). Мы рекомендуем склонировать весь репозиторий курса и открыть его в джупитере. Тогда все картинки будут показаны корректно."
   ]
  },
  {
   "cell_type": "markdown",
   "metadata": {},
   "source": [
    "- [Видео про Jupyter](https://www.youtube.com/watch?v=eez7742Cqrc&list=PLLyuiBK_HOLM5CMSbD6mAvx4L7wwlMJwL)\n",
    "- [Видео про Google Colab - jupyter в облаке](https://www.youtube.com/watch?v=Eofgd8LTrbk&list=PLLyuiBK_HOLM5CMSbD6mAvx4L7wwlMJwL)\n",
    "\n",
    "Мы рекомендуем настроить jupyter локально под Linux. Но вы можете использовать и облачный Colab. Во втором курсе, когда будут нейросети, мы будем работать только в Google Colab, так как будет нужна GPU."
   ]
  },
  {
   "cell_type": "markdown",
   "metadata": {},
   "source": [
    "## TL;DR;\n",
    "\n",
    "Официальная документация [jupyter](http://jupyter-notebook.readthedocs.io/en/latest/notebook.html)"
   ]
  },
  {
   "cell_type": "markdown",
   "metadata": {},
   "source": [
    "## Как установить и запустить\n",
    "\n",
    "Запустите в консоли\n",
    "\n",
    "```bash\n",
    "pip3 install jupyter\n",
    "jupyter-notebook\n",
    "```\n",
    "\n",
    "Вы получить нечто подобное в выводе:\n",
    "\n",
    "![](images/jupyter-start.png)\n",
    "\n",
    "Обычно автоматически открывается окно в браузере по адресу [localhost:8888](http://localhost:8888) + какой-то токен.\n",
    "\n",
    "И вы увидите интерфейс главного меню, где можете создать папки, файлы, открыть терминал(sic!) или создать ноутбук определенной версии Python.\n",
    "\n",
    "![](images/jupyter-main-menu.png)"
   ]
  },
  {
   "cell_type": "markdown",
   "metadata": {},
   "source": [
    "## Основная идея\n",
    "\n",
    "Всё есть ячейка.\n",
    "\n",
    "Ячейки бывают разные:\n",
    "- код\n",
    "- markdown\n",
    "- результат выполнения\n",
    "\n",
    "Чтобы выполнить код в ячейке - посмотрите ваши хоткеи (такая иконка клавиатуры). На маке это `ctrl-Enter` и `alt-Enter`\n",
    "\n",
    "![](images/jupyter-run-cell.png)\n",
    "\n",
    "### Выполнение ячеек!\n",
    "\n",
    "Ячейки можно выполнять в любом порядке.\n",
    "\n",
    "Каждое выполнение ячейки модифицирует некоторый глобальный скоуп. \n",
    "\n",
    "Возможно такое, что вы выполнили ячейки из будущего и потом выполнили ячейки из прошлого - так делать нехорошо. Используйте для проверки команду `Run all cells`.\n",
    "\n",
    "**Лайфхак**: Оформляйте ноутбук так, чтобы можно было из них сделать презентацию в любой момент!"
   ]
  },
  {
   "cell_type": "code",
   "execution_count": 1,
   "metadata": {},
   "outputs": [
    {
     "data": {
      "text/plain": [
       "(3, 2)"
      ]
     },
     "execution_count": 1,
     "metadata": {},
     "output_type": "execute_result"
    }
   ],
   "source": [
    "# тут код\n",
    "\n",
    "a = 3\n",
    "b = 2\n",
    "\n",
    "a,b # можно не писать print"
   ]
  },
  {
   "cell_type": "code",
   "execution_count": 2,
   "metadata": {
    "scrolled": true
   },
   "outputs": [
    {
     "data": {
      "text/plain": [
       "5"
      ]
     },
     "execution_count": 2,
     "metadata": {},
     "output_type": "execute_result"
    }
   ],
   "source": [
    "# тут используем переменную из прошлой ячейки\n",
    "\n",
    "a + b"
   ]
  },
  {
   "cell_type": "markdown",
   "metadata": {},
   "source": [
    "## Магические команды\n",
    "\n",
    "В juputer есть набор магических которые делают некоторую магию. Например:\n",
    "\n",
    "- Чтобы включить вывод графиков inline надо в начале ноутбука запустить команду `%matplotlib inline`\n",
    "- Можно запустить консольную команду, например `%ls`\n",
    "- И тысячи этих команд, больше **[тут](http://ipython.readthedocs.io/en/stable/interactive/magics.html)**"
   ]
  },
  {
   "cell_type": "code",
   "execution_count": 3,
   "metadata": {},
   "outputs": [
    {
     "data": {
      "application/json": {
       "cell": {
        "!": "OSMagics",
        "HTML": "Other",
        "SVG": "Other",
        "bash": "Other",
        "capture": "ExecutionMagics",
        "debug": "ExecutionMagics",
        "file": "Other",
        "html": "DisplayMagics",
        "javascript": "DisplayMagics",
        "js": "DisplayMagics",
        "latex": "DisplayMagics",
        "markdown": "DisplayMagics",
        "perl": "Other",
        "prun": "ExecutionMagics",
        "pypy": "Other",
        "python": "Other",
        "python2": "Other",
        "python3": "Other",
        "ruby": "Other",
        "script": "ScriptMagics",
        "sh": "Other",
        "svg": "DisplayMagics",
        "sx": "OSMagics",
        "system": "OSMagics",
        "time": "ExecutionMagics",
        "timeit": "ExecutionMagics",
        "writefile": "OSMagics"
       },
       "line": {
        "alias": "OSMagics",
        "alias_magic": "BasicMagics",
        "autoawait": "AsyncMagics",
        "autocall": "AutoMagics",
        "automagic": "AutoMagics",
        "autosave": "KernelMagics",
        "bookmark": "OSMagics",
        "cat": "Other",
        "cd": "OSMagics",
        "clear": "KernelMagics",
        "colors": "BasicMagics",
        "config": "ConfigMagics",
        "connect_info": "KernelMagics",
        "cp": "Other",
        "debug": "ExecutionMagics",
        "dhist": "OSMagics",
        "dirs": "OSMagics",
        "doctest_mode": "BasicMagics",
        "ed": "Other",
        "edit": "KernelMagics",
        "env": "OSMagics",
        "gui": "BasicMagics",
        "hist": "Other",
        "history": "HistoryMagics",
        "killbgscripts": "ScriptMagics",
        "ldir": "Other",
        "less": "KernelMagics",
        "lf": "Other",
        "lk": "Other",
        "ll": "Other",
        "load": "CodeMagics",
        "load_ext": "ExtensionMagics",
        "loadpy": "CodeMagics",
        "logoff": "LoggingMagics",
        "logon": "LoggingMagics",
        "logstart": "LoggingMagics",
        "logstate": "LoggingMagics",
        "logstop": "LoggingMagics",
        "ls": "Other",
        "lsmagic": "BasicMagics",
        "lx": "Other",
        "macro": "ExecutionMagics",
        "magic": "BasicMagics",
        "man": "KernelMagics",
        "matplotlib": "PylabMagics",
        "mkdir": "Other",
        "more": "KernelMagics",
        "mv": "Other",
        "notebook": "BasicMagics",
        "page": "BasicMagics",
        "pastebin": "CodeMagics",
        "pdb": "ExecutionMagics",
        "pdef": "NamespaceMagics",
        "pdoc": "NamespaceMagics",
        "pfile": "NamespaceMagics",
        "pinfo": "NamespaceMagics",
        "pinfo2": "NamespaceMagics",
        "pip": "BasicMagics",
        "popd": "OSMagics",
        "pprint": "BasicMagics",
        "precision": "BasicMagics",
        "prun": "ExecutionMagics",
        "psearch": "NamespaceMagics",
        "psource": "NamespaceMagics",
        "pushd": "OSMagics",
        "pwd": "OSMagics",
        "pycat": "OSMagics",
        "pylab": "PylabMagics",
        "qtconsole": "KernelMagics",
        "quickref": "BasicMagics",
        "recall": "HistoryMagics",
        "rehashx": "OSMagics",
        "reload_ext": "ExtensionMagics",
        "rep": "Other",
        "rerun": "HistoryMagics",
        "reset": "NamespaceMagics",
        "reset_selective": "NamespaceMagics",
        "rm": "Other",
        "rmdir": "Other",
        "run": "ExecutionMagics",
        "save": "CodeMagics",
        "sc": "OSMagics",
        "set_env": "OSMagics",
        "store": "StoreMagics",
        "sx": "OSMagics",
        "system": "OSMagics",
        "tb": "ExecutionMagics",
        "time": "ExecutionMagics",
        "timeit": "ExecutionMagics",
        "unalias": "OSMagics",
        "unload_ext": "ExtensionMagics",
        "who": "NamespaceMagics",
        "who_ls": "NamespaceMagics",
        "whos": "NamespaceMagics",
        "xdel": "NamespaceMagics",
        "xmode": "BasicMagics"
       }
      },
      "text/plain": [
       "Available line magics:\n",
       "%alias  %alias_magic  %autoawait  %autocall  %automagic  %autosave  %bookmark  %cat  %cd  %clear  %colors  %config  %connect_info  %cp  %debug  %dhist  %dirs  %doctest_mode  %ed  %edit  %env  %gui  %hist  %history  %killbgscripts  %ldir  %less  %lf  %lk  %ll  %load  %load_ext  %loadpy  %logoff  %logon  %logstart  %logstate  %logstop  %ls  %lsmagic  %lx  %macro  %magic  %man  %matplotlib  %mkdir  %more  %mv  %notebook  %page  %pastebin  %pdb  %pdef  %pdoc  %pfile  %pinfo  %pinfo2  %popd  %pprint  %precision  %prun  %psearch  %psource  %pushd  %pwd  %pycat  %pylab  %qtconsole  %quickref  %recall  %rehashx  %reload_ext  %rep  %rerun  %reset  %reset_selective  %rm  %rmdir  %run  %save  %sc  %set_env  %store  %sx  %system  %tb  %time  %timeit  %unalias  %unload_ext  %who  %who_ls  %whos  %xdel  %xmode\n",
       "\n",
       "Available cell magics:\n",
       "%%!  %%HTML  %%SVG  %%bash  %%capture  %%debug  %%file  %%html  %%javascript  %%js  %%latex  %%markdown  %%perl  %%prun  %%pypy  %%python  %%python2  %%python3  %%ruby  %%script  %%sh  %%svg  %%sx  %%system  %%time  %%timeit  %%writefile\n",
       "\n",
       "Automagic is ON, % prefix IS NOT needed for line magics."
      ]
     },
     "execution_count": 3,
     "metadata": {},
     "output_type": "execute_result"
    }
   ],
   "source": [
    "%lsmagic"
   ]
  },
  {
   "cell_type": "code",
   "execution_count": 4,
   "metadata": {},
   "outputs": [],
   "source": [
    "%man python"
   ]
  },
  {
   "cell_type": "code",
   "execution_count": 5,
   "metadata": {},
   "outputs": [
    {
     "name": "stdout",
     "output_type": "stream",
     "text": [
      "01_setup_utils.md                 04_jupyter_python_tutorial.ipynb\r\n",
      "02_pyenv.md                       \u001b[1m\u001b[36mimages\u001b[m\u001b[m/\r\n",
      "03_pip.md\r\n"
     ]
    }
   ],
   "source": [
    "%ls"
   ]
  },
  {
   "cell_type": "code",
   "execution_count": 6,
   "metadata": {},
   "outputs": [
    {
     "name": "stdout",
     "output_type": "stream",
     "text": [
      "    October 2018      \n",
      "Su Mo Tu We Th Fr Sa  \n",
      "    1  2  3  4  5  6  \n",
      " 7  8  9 10 11 _\b1_\b2 13  \n",
      "14 15 16 17 18 19 20  \n",
      "21 22 23 24 25 26 27  \n",
      "28 29 30 31           \n",
      "                      \n"
     ]
    }
   ],
   "source": [
    "%%bash\n",
    "cal"
   ]
  },
  {
   "cell_type": "code",
   "execution_count": 7,
   "metadata": {},
   "outputs": [],
   "source": [
    "# самая важная команда\n",
    "%matplotlib inline"
   ]
  },
  {
   "cell_type": "code",
   "execution_count": 8,
   "metadata": {},
   "outputs": [
    {
     "name": "stdout",
     "output_type": "stream",
     "text": [
      "Requirement already satisfied: seaborn in /Users/ilya/.pyenv/versions/3.7.0/lib/python3.7/site-packages (0.9.0)\n",
      "Requirement already satisfied: matplotlib>=1.4.3 in /Users/ilya/.pyenv/versions/3.7.0/lib/python3.7/site-packages (from seaborn) (3.0.0)\n",
      "Requirement already satisfied: scipy>=0.14.0 in /Users/ilya/.pyenv/versions/3.7.0/lib/python3.7/site-packages (from seaborn) (1.1.0)\n",
      "Requirement already satisfied: numpy>=1.9.3 in /Users/ilya/.pyenv/versions/3.7.0/lib/python3.7/site-packages (from seaborn) (1.15.2)\n",
      "Requirement already satisfied: pandas>=0.15.2 in /Users/ilya/.pyenv/versions/3.7.0/lib/python3.7/site-packages (from seaborn) (0.23.4)\n",
      "Requirement already satisfied: pyparsing!=2.0.4,!=2.1.2,!=2.1.6,>=2.0.1 in /Users/ilya/.pyenv/versions/3.7.0/lib/python3.7/site-packages (from matplotlib>=1.4.3->seaborn) (2.2.2)\n",
      "Requirement already satisfied: python-dateutil>=2.1 in /Users/ilya/.pyenv/versions/3.7.0/lib/python3.7/site-packages (from matplotlib>=1.4.3->seaborn) (2.7.3)\n",
      "Requirement already satisfied: cycler>=0.10 in /Users/ilya/.pyenv/versions/3.7.0/lib/python3.7/site-packages (from matplotlib>=1.4.3->seaborn) (0.10.0)\n",
      "Requirement already satisfied: kiwisolver>=1.0.1 in /Users/ilya/.pyenv/versions/3.7.0/lib/python3.7/site-packages (from matplotlib>=1.4.3->seaborn) (1.0.1)\n",
      "Requirement already satisfied: pytz>=2011k in /Users/ilya/.pyenv/versions/3.7.0/lib/python3.7/site-packages (from pandas>=0.15.2->seaborn) (2018.5)\n",
      "Requirement already satisfied: six>=1.5 in /Users/ilya/.pyenv/versions/3.7.0/lib/python3.7/site-packages (from python-dateutil>=2.1->matplotlib>=1.4.3->seaborn) (1.11.0)\n",
      "Requirement already satisfied: setuptools in /Users/ilya/.pyenv/versions/3.7.0/lib/python3.7/site-packages (from kiwisolver>=1.0.1->matplotlib>=1.4.3->seaborn) (39.0.1)\n"
     ]
    }
   ],
   "source": [
    "%%bash\n",
    "pip3 install seaborn"
   ]
  },
  {
   "cell_type": "code",
   "execution_count": 9,
   "metadata": {},
   "outputs": [
    {
     "name": "stderr",
     "output_type": "stream",
     "text": [
      "/Users/ilya/.pyenv/versions/3.7.0/lib/python3.7/site-packages/seaborn/regression.py:546: UserWarning: The `size` paramter has been renamed to `height`; please update your code.\n",
      "  warnings.warn(msg, UserWarning)\n",
      "/Users/ilya/.pyenv/versions/3.7.0/lib/python3.7/site-packages/scipy/stats/stats.py:1713: FutureWarning: Using a non-tuple sequence for multidimensional indexing is deprecated; use `arr[tuple(seq)]` instead of `arr[seq]`. In the future this will be interpreted as an array index, `arr[np.array(seq)]`, which will result either in an error or a different result.\n",
      "  return np.add.reduce(sorted[indexer] * weights, axis=axis) / sumval\n"
     ]
    },
    {
     "data": {
      "text/plain": [
       "<seaborn.axisgrid.FacetGrid at 0x11fc9a1d0>"
      ]
     },
     "execution_count": 9,
     "metadata": {},
     "output_type": "execute_result"
    },
    {
     "data": {
      "image/png": "[encoded data removed]",
      "text/plain": [
       "<Figure size 453.85x360 with 1 Axes>"
      ]
     },
     "metadata": {},
     "output_type": "display_data"
    }
   ],
   "source": [
    "import seaborn as sns\n",
    "sns.set()\n",
    "\n",
    "# Load the example tips dataset\n",
    "iris = sns.load_dataset(\"iris\")\n",
    "\n",
    "# Plot tip as a function of toal bill across days\n",
    "g = sns.lmplot(x=\"sepal_length\", y=\"sepal_width\", hue=\"species\",\n",
    "               truncate=True, size=5, data=iris)\n",
    "\n",
    "# Use more informative axis labels than are provided by default\n",
    "g.set_axis_labels(\"Sepal length (mm)\", \"Sepal width (mm)\")"
   ]
  },
  {
   "cell_type": "code",
   "execution_count": 10,
   "metadata": {},
   "outputs": [
    {
     "data": {
      "text/html": [
       "<div>\n",
       "<style scoped>\n",
       "    .dataframe tbody tr th:only-of-type {\n",
       "        vertical-align: middle;\n",
       "    }\n",
       "\n",
       "    .dataframe tbody tr th {\n",
       "        vertical-align: top;\n",
       "    }\n",
       "\n",
       "    .dataframe thead th {\n",
       "        text-align: right;\n",
       "    }\n",
       "</style>\n",
       "<table border=\"1\" class=\"dataframe\">\n",
       "  <thead>\n",
       "    <tr style=\"text-align: right;\">\n",
       "      <th></th>\n",
       "      <th>A</th>\n",
       "      <th>B</th>\n",
       "      <th>C</th>\n",
       "    </tr>\n",
       "  </thead>\n",
       "  <tbody>\n",
       "    <tr>\n",
       "      <th>0</th>\n",
       "      <td>1</td>\n",
       "      <td>2</td>\n",
       "      <td>3</td>\n",
       "    </tr>\n",
       "    <tr>\n",
       "      <th>1</th>\n",
       "      <td>4</td>\n",
       "      <td>5</td>\n",
       "      <td>6</td>\n",
       "    </tr>\n",
       "    <tr>\n",
       "      <th>2</th>\n",
       "      <td>7</td>\n",
       "      <td>8</td>\n",
       "      <td>9</td>\n",
       "    </tr>\n",
       "  </tbody>\n",
       "</table>\n",
       "</div>"
      ],
      "text/plain": [
       "   A  B  C\n",
       "0  1  2  3\n",
       "1  4  5  6\n",
       "2  7  8  9"
      ]
     },
     "execution_count": 10,
     "metadata": {},
     "output_type": "execute_result"
    }
   ],
   "source": [
    "import pandas as pd\n",
    "import numpy as np\n",
    "\n",
    "pd.DataFrame(data=np.array([[1,2,3], [4,5,6],[7,8,9]]), columns=['A', 'B', 'C'])"
   ]
  },
  {
   "cell_type": "code",
   "execution_count": 11,
   "metadata": {},
   "outputs": [],
   "source": [
    "# вызов документации по модулю, классу, функции\n",
    "? pd.DataFrame"
   ]
  }
 ],
 "metadata": {
  "kernelspec": {
   "display_name": "Python 3",
   "language": "python",
   "name": "python3"
  },
  "language_info": {
   "codemirror_mode": {
    "name": "ipython",
    "version": 3
   },
   "file_extension": ".py",
   "mimetype": "text/x-python",
   "name": "python",
   "nbconvert_exporter": "python",
   "pygments_lexer": "ipython3",
   "version": "3.8.5"
  }
 },
 "nbformat": 4,
 "nbformat_minor": 2
}
