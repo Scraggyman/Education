{
 "cells": [
  {
   "cell_type": "markdown",
   "id": "7804037e",
   "metadata": {},
   "source": [
    "# Step 1"
   ]
  },
  {
   "cell_type": "markdown",
   "id": "28111ad9",
   "metadata": {},
   "source": [
    "Основные понятия  по теме дерево решений:\n",
    "* Entropy and Information gain (https://www.youtube.com/watch?v=IPkRVpXtbdY)\n",
    "* Train / test split (https://scikit-learn.org/stable/modules/generated/sklearn.model_selection.train_test_split.html)\n",
    "* K-fold cross-validation (https://scikit-learn.org/stable/modules/cross_validation.html)\n",
    "* Hyper parameters and Grid search (https://scikit-learn.org/stable/modules/grid_search.html)\n",
    "\n",
    "Дерево решений - алгоритм машинного обучения для регрессии и классификации. Остановимся подробнее на задаче классификатора. В процессе построения дерева выбираются переменные разделения, по которым позволяет нам с большей точностью разделять исследуемые классы. В каждом листе дерева находится одно условие, которое разбивает набор данных на два подмножества.\n",
    "\n",
    "Процесс выбора фичей, которые помещаются в лист дерева основывается на расчете _Information gain_. Могут использоваться и другие критерии.\n",
    "\n",
    "По умолчанию классификатор строит настолько глубокое дерево, насколько позволяет набор данных. Таким образом, классификатор преследует цель безошибочно отнести к нужному классу все объекты в выборке. Такой \"жадный\" алгоритм может приводить к переобучению в результате избыточной глубины дерева.\n",
    "\n",
    "Проверить насколько сильно переобучен классификатор можно обучив его на обучающей выборке затем проверить качество модели на тестовой выборке.\n",
    "Основная цель построения любой модели - получить классификатор с максимальной обобщающей способностью, т.е. такой классификатор, который успешно выделяет общие закономерности и не переобучается на частных закономерностях в конкретной выборке.\n",
    "\n",
    "Для этой цели мы подбираем оптимальный набор параметров классификатора, в случае дерева решений - это может быть глубина дерева. Для выбора оптимального параметра можно построить множество деревьев с разной глубиной и выбрать наилучший результат.\n",
    "\n",
    "В качестве критерия \"наилучшего\" классификатора можно использовать кросс-валидацию. При таком подходе данные в выборке разбиваются на n частей, например на 5 частей, далее классификатор обучается на 4 частях данных и валидируется на оставшейся 5ой части. Затем операция повторяется, чтобы каждая из 5 частей данных оказалась в роли тестового множества."
   ]
  },
  {
   "cell_type": "markdown",
   "id": "0b880d3f",
   "metadata": {},
   "source": [
    "# Step 2"
   ]
  },
  {
   "cell_type": "markdown",
   "id": "d4441aed",
   "metadata": {},
   "source": [
    "Начнём с простого - создайте Decision Tree (https://scikit-learn.org/stable/modules/tree.html) классификатор, используя одноимённый класс из библиотеки sklearn и сохраните его в переменную dt.\n",
    "\n",
    "У дерева должны быть следующие параметры:\n",
    "* максимальная глубина - 5 уровней\n",
    "* минимальное число образцов в вершине для разделения - 5\n",
    "\n",
    "Подробнее узнать об имеющихся параметрах Decision Tree можно узнать в документации (https://scikit-learn.org/stable/modules/generated/sklearn.tree.DecisionTreeClassifier.html)"
   ]
  },
  {
   "cell_type": "code",
   "execution_count": 33,
   "id": "cae5d82d",
   "metadata": {},
   "outputs": [],
   "source": [
    "import pandas as pd\n",
    "from sklearn.tree import DecisionTreeClassifier\n",
    "\n",
    "dt = DecisionTreeClassifier(max_depth=5, min_samples_split=5)"
   ]
  },
  {
   "cell_type": "markdown",
   "id": "0d4e0ba4",
   "metadata": {},
   "source": [
    "# Step 3"
   ]
  },
  {
   "cell_type": "markdown",
   "id": "fd39ce8a",
   "metadata": {},
   "source": [
    "Скачайте набор данных (data/train_data_tree.csv) с тремя переменными: sex, exang, num. Представьте, что при помощи дерева решений мы хотим классифицировать есть или нет у пациента заболевание сердца (переменная num), основываясь на двух признаках: пол (sex) и наличие/отсутсвие стенокардии (exang). Обучите дерево решений (https://scikit-learn.org/stable/modules/generated/sklearn.tree.DecisionTreeClassifier.html#sklearn.tree.DecisionTreeClassifier) на этих данных, используйте entropy в качестве критерия.\n",
    "\n",
    " \n",
    "\n",
    "Укажите, чему будет равняться значение Information Gain для переменной,  которая будет помещена в корень дерева.\n",
    "\n",
    "В ответе необходимо указать число с точностью 3 знака после запятой."
   ]
  },
  {
   "cell_type": "code",
   "execution_count": 1,
   "id": "761f3b76",
   "metadata": {},
   "outputs": [],
   "source": [
    "import pandas as pd"
   ]
  },
  {
   "cell_type": "code",
   "execution_count": 2,
   "id": "04a87f76",
   "metadata": {},
   "outputs": [
    {
     "data": {
      "text/html": [
       "<div>\n",
       "<style scoped>\n",
       "    .dataframe tbody tr th:only-of-type {\n",
       "        vertical-align: middle;\n",
       "    }\n",
       "\n",
       "    .dataframe tbody tr th {\n",
       "        vertical-align: top;\n",
       "    }\n",
       "\n",
       "    .dataframe thead th {\n",
       "        text-align: right;\n",
       "    }\n",
       "</style>\n",
       "<table border=\"1\" class=\"dataframe\">\n",
       "  <thead>\n",
       "    <tr style=\"text-align: right;\">\n",
       "      <th></th>\n",
       "      <th>sex</th>\n",
       "      <th>exang</th>\n",
       "      <th>num</th>\n",
       "    </tr>\n",
       "  </thead>\n",
       "  <tbody>\n",
       "    <tr>\n",
       "      <th>0</th>\n",
       "      <td>1</td>\n",
       "      <td>1</td>\n",
       "      <td>1</td>\n",
       "    </tr>\n",
       "    <tr>\n",
       "      <th>1</th>\n",
       "      <td>1</td>\n",
       "      <td>1</td>\n",
       "      <td>1</td>\n",
       "    </tr>\n",
       "    <tr>\n",
       "      <th>2</th>\n",
       "      <td>1</td>\n",
       "      <td>0</td>\n",
       "      <td>1</td>\n",
       "    </tr>\n",
       "    <tr>\n",
       "      <th>3</th>\n",
       "      <td>1</td>\n",
       "      <td>0</td>\n",
       "      <td>0</td>\n",
       "    </tr>\n",
       "    <tr>\n",
       "      <th>4</th>\n",
       "      <td>1</td>\n",
       "      <td>0</td>\n",
       "      <td>1</td>\n",
       "    </tr>\n",
       "  </tbody>\n",
       "</table>\n",
       "</div>"
      ],
      "text/plain": [
       "   sex  exang  num\n",
       "0    1      1    1\n",
       "1    1      1    1\n",
       "2    1      0    1\n",
       "3    1      0    0\n",
       "4    1      0    1"
      ]
     },
     "execution_count": 2,
     "metadata": {},
     "output_type": "execute_result"
    }
   ],
   "source": [
    "data = pd.read_csv('data/train_data_tree.csv')\n",
    "data.head()"
   ]
  },
  {
   "cell_type": "code",
   "execution_count": 3,
   "id": "32dde399",
   "metadata": {},
   "outputs": [],
   "source": [
    "from sklearn.model_selection import train_test_split\n",
    "\n",
    "y = data[['num']]\n",
    "X = data.drop(['num'], axis=1)\n",
    "\n",
    "X_train, X_test, y_train, y_test = train_test_split(X, y)"
   ]
  },
  {
   "cell_type": "code",
   "execution_count": 4,
   "id": "53717ed6",
   "metadata": {},
   "outputs": [],
   "source": [
    "from sklearn.tree import DecisionTreeClassifier"
   ]
  },
  {
   "cell_type": "code",
   "execution_count": 5,
   "id": "9f68db44",
   "metadata": {},
   "outputs": [],
   "source": [
    "clf_tree = DecisionTreeClassifier(criterion='entropy')"
   ]
  },
  {
   "cell_type": "code",
   "execution_count": 39,
   "id": "cd7c900c",
   "metadata": {},
   "outputs": [
    {
     "data": {
      "text/html": [
       "<style>#sk-container-id-3 {color: black;background-color: white;}#sk-container-id-3 pre{padding: 0;}#sk-container-id-3 div.sk-toggleable {background-color: white;}#sk-container-id-3 label.sk-toggleable__label {cursor: pointer;display: block;width: 100%;margin-bottom: 0;padding: 0.3em;box-sizing: border-box;text-align: center;}#sk-container-id-3 label.sk-toggleable__label-arrow:before {content: \"▸\";float: left;margin-right: 0.25em;color: #696969;}#sk-container-id-3 label.sk-toggleable__label-arrow:hover:before {color: black;}#sk-container-id-3 div.sk-estimator:hover label.sk-toggleable__label-arrow:before {color: black;}#sk-container-id-3 div.sk-toggleable__content {max-height: 0;max-width: 0;overflow: hidden;text-align: left;background-color: #f0f8ff;}#sk-container-id-3 div.sk-toggleable__content pre {margin: 0.2em;color: black;border-radius: 0.25em;background-color: #f0f8ff;}#sk-container-id-3 input.sk-toggleable__control:checked~div.sk-toggleable__content {max-height: 200px;max-width: 100%;overflow: auto;}#sk-container-id-3 input.sk-toggleable__control:checked~label.sk-toggleable__label-arrow:before {content: \"▾\";}#sk-container-id-3 div.sk-estimator input.sk-toggleable__control:checked~label.sk-toggleable__label {background-color: #d4ebff;}#sk-container-id-3 div.sk-label input.sk-toggleable__control:checked~label.sk-toggleable__label {background-color: #d4ebff;}#sk-container-id-3 input.sk-hidden--visually {border: 0;clip: rect(1px 1px 1px 1px);clip: rect(1px, 1px, 1px, 1px);height: 1px;margin: -1px;overflow: hidden;padding: 0;position: absolute;width: 1px;}#sk-container-id-3 div.sk-estimator {font-family: monospace;background-color: #f0f8ff;border: 1px dotted black;border-radius: 0.25em;box-sizing: border-box;margin-bottom: 0.5em;}#sk-container-id-3 div.sk-estimator:hover {background-color: #d4ebff;}#sk-container-id-3 div.sk-parallel-item::after {content: \"\";width: 100%;border-bottom: 1px solid gray;flex-grow: 1;}#sk-container-id-3 div.sk-label:hover label.sk-toggleable__label {background-color: #d4ebff;}#sk-container-id-3 div.sk-serial::before {content: \"\";position: absolute;border-left: 1px solid gray;box-sizing: border-box;top: 0;bottom: 0;left: 50%;z-index: 0;}#sk-container-id-3 div.sk-serial {display: flex;flex-direction: column;align-items: center;background-color: white;padding-right: 0.2em;padding-left: 0.2em;position: relative;}#sk-container-id-3 div.sk-item {position: relative;z-index: 1;}#sk-container-id-3 div.sk-parallel {display: flex;align-items: stretch;justify-content: center;background-color: white;position: relative;}#sk-container-id-3 div.sk-item::before, #sk-container-id-3 div.sk-parallel-item::before {content: \"\";position: absolute;border-left: 1px solid gray;box-sizing: border-box;top: 0;bottom: 0;left: 50%;z-index: -1;}#sk-container-id-3 div.sk-parallel-item {display: flex;flex-direction: column;z-index: 1;position: relative;background-color: white;}#sk-container-id-3 div.sk-parallel-item:first-child::after {align-self: flex-end;width: 50%;}#sk-container-id-3 div.sk-parallel-item:last-child::after {align-self: flex-start;width: 50%;}#sk-container-id-3 div.sk-parallel-item:only-child::after {width: 0;}#sk-container-id-3 div.sk-dashed-wrapped {border: 1px dashed gray;margin: 0 0.4em 0.5em 0.4em;box-sizing: border-box;padding-bottom: 0.4em;background-color: white;}#sk-container-id-3 div.sk-label label {font-family: monospace;font-weight: bold;display: inline-block;line-height: 1.2em;}#sk-container-id-3 div.sk-label-container {text-align: center;}#sk-container-id-3 div.sk-container {/* jupyter's `normalize.less` sets `[hidden] { display: none; }` but bootstrap.min.css set `[hidden] { display: none !important; }` so we also need the `!important` here to be able to override the default hidden behavior on the sphinx rendered scikit-learn.org. See: https://github.com/scikit-learn/scikit-learn/issues/21755 */display: inline-block !important;position: relative;}#sk-container-id-3 div.sk-text-repr-fallback {display: none;}</style><div id=\"sk-container-id-3\" class=\"sk-top-container\"><div class=\"sk-text-repr-fallback\"><pre>DecisionTreeClassifier()</pre><b>In a Jupyter environment, please rerun this cell to show the HTML representation or trust the notebook. <br />On GitHub, the HTML representation is unable to render, please try loading this page with nbviewer.org.</b></div><div class=\"sk-container\" hidden><div class=\"sk-item\"><div class=\"sk-estimator sk-toggleable\"><input class=\"sk-toggleable__control sk-hidden--visually\" id=\"sk-estimator-id-3\" type=\"checkbox\" checked><label for=\"sk-estimator-id-3\" class=\"sk-toggleable__label sk-toggleable__label-arrow\">DecisionTreeClassifier</label><div class=\"sk-toggleable__content\"><pre>DecisionTreeClassifier()</pre></div></div></div></div></div>"
      ],
      "text/plain": [
       "DecisionTreeClassifier()"
      ]
     },
     "execution_count": 39,
     "metadata": {},
     "output_type": "execute_result"
    }
   ],
   "source": [
    "clf_tree.fit(X, y)"
   ]
  },
  {
   "cell_type": "code",
   "execution_count": 7,
   "id": "57b16e98",
   "metadata": {},
   "outputs": [],
   "source": [
    "import math \n",
    "\n",
    "def entropy(n1, n2):\n",
    "    if (n1 == 0) or (n2 == 0):\n",
    "        return 0\n",
    "    else:\n",
    "        return (-(n1/(n1+n2)) * math.log2((n1/(n1+ n2)))) - (-(n2/(n1+n2)) * math.log2((n2/(n1+ n2))))\n",
    "    \n",
    "def information_gain(n1, n2, n3, n4):\n",
    "    en1 = entropy(n1, n2)\n",
    "    en2 = entropy(n3, n4)\n",
    "    \n",
    "    entropy_y = entropy(n1 + n2, n3 + n4)\n",
    "    entropy_y_x = (((n1 + n2) / (n1 + n2 + n3 + n4)) * en1) + (((n3 + n4) / (n1 + n2 + n3 + n4)) * en2)\n",
    "    \n",
    "    return entropy_y - entropy_y_x"
   ]
  },
  {
   "cell_type": "code",
   "execution_count": 25,
   "id": "5312be0e",
   "metadata": {},
   "outputs": [
    {
     "data": {
      "text/plain": [
       "[Text(0.5, 0.8333333333333334, 'x[1] <= 0.5\\nentropy = 0.996\\nsamples = 238\\nvalue = [128, 110]'),\n",
       " Text(0.25, 0.5, 'x[0] <= 0.5\\nentropy = 0.903\\nsamples = 157\\nvalue = [107, 50]'),\n",
       " Text(0.125, 0.16666666666666666, 'entropy = 0.612\\nsamples = 53\\nvalue = [45, 8]'),\n",
       " Text(0.375, 0.16666666666666666, 'entropy = 0.973\\nsamples = 104\\nvalue = [62, 42]'),\n",
       " Text(0.75, 0.5, 'x[0] <= 0.5\\nentropy = 0.826\\nsamples = 81\\nvalue = [21, 60]'),\n",
       " Text(0.625, 0.16666666666666666, 'entropy = 0.954\\nsamples = 16\\nvalue = [6, 10]'),\n",
       " Text(0.875, 0.16666666666666666, 'entropy = 0.779\\nsamples = 65\\nvalue = [15, 50]')]"
      ]
     },
     "execution_count": 25,
     "metadata": {},
     "output_type": "execute_result"
    },
    {
     "data": {
      "image/png": "[encoded data removed]",
      "text/plain": [
       "<Figure size 640x480 with 1 Axes>"
      ]
     },
     "metadata": {},
     "output_type": "display_data"
    }
   ],
   "source": [
    "from sklearn import tree\n",
    "tree.plot_tree(clf_tree, filled=True)"
   ]
  },
  {
   "cell_type": "code",
   "execution_count": 31,
   "id": "370d0e77",
   "metadata": {},
   "outputs": [
    {
     "data": {
      "text/plain": [
       "0.12858823529411767"
      ]
     },
     "execution_count": 31,
     "metadata": {},
     "output_type": "execute_result"
    }
   ],
   "source": [
    "0.996 - (((128/238)*0.903) + (110/238)*0.826) # (128*0.903 + 110*0.826)/238"
   ]
  },
  {
   "cell_type": "code",
   "execution_count": null,
   "id": "a8a7597e",
   "metadata": {},
   "outputs": [],
   "source": [
    "0,996 - (157/238)*0,903 - (81/238)*0,826 = 0,119"
   ]
  },
  {
   "cell_type": "markdown",
   "id": "45730ce6",
   "metadata": {},
   "source": [
    "# Step 4"
   ]
  },
  {
   "cell_type": "markdown",
   "id": "a33fff68",
   "metadata": {},
   "source": [
    "Photo test"
   ]
  },
  {
   "cell_type": "markdown",
   "id": "957429b2",
   "metadata": {},
   "source": [
    "# Step 5"
   ]
  },
  {
   "cell_type": "markdown",
   "id": "15bffcfc",
   "metadata": {},
   "source": [
    "photo test"
   ]
  },
  {
   "cell_type": "markdown",
   "id": "211097c9",
   "metadata": {},
   "source": [
    "# Step 6"
   ]
  },
  {
   "cell_type": "markdown",
   "id": "c5c90830",
   "metadata": {},
   "source": [
    "Теперь, создав дерево, давайте обучим его и попробуем что-нибудь предсказать!\n",
    "\n",
    "Для начала опробуем наше дерево на классическом наборе iris, где собраны данные о длине, ширине чашелистиков и лепестков ирисов и их принадлежности к виду. В sklearn он уже встроен, что довольно удобно.\n",
    "\n",
    "Итак, вам даны 2 numpy эррея с измеренными признаками ирисов и их принадлежностью к виду. Сначала попробуем примитивный способ с разбиением данных на 2 датасэта. Используйте функцию train_test_split для разделения имеющихся данных на тренировочный и тестовый наборы данных, 75% и 25% соответственно.\n",
    "Затем создайте дерево dt с параметрами по умолчанию и обучите его на тренировочных данных, а после предскажите классы, к которым принадлежат данные из тестовой выборки, сохраните результат предсказаний в переменную predicted."
   ]
  },
  {
   "cell_type": "code",
   "execution_count": 34,
   "id": "38902581",
   "metadata": {},
   "outputs": [],
   "source": [
    "import pandas as pd\n",
    "from sklearn.tree import DecisionTreeClassifier\n",
    "from sklearn.model_selection import train_test_split\n",
    "from sklearn.datasets import load_iris\n",
    "\n",
    "\n",
    "iris = load_iris()\n",
    "X = iris.data\n",
    "y = iris.target\n",
    "\n",
    "X_train, X_test, y_train, y_test = train_test_split(X, y, test_size=0.25)\n",
    "\n",
    "dt = DecisionTreeClassifier()\n",
    "dt.fit(X_train, y_train)\n",
    "predicted = dt.predict(X_test)\n"
   ]
  },
  {
   "cell_type": "markdown",
   "id": "fb04ced0",
   "metadata": {},
   "source": [
    "# Step 7"
   ]
  },
  {
   "cell_type": "markdown",
   "id": "c4cde5b3",
   "metadata": {},
   "source": [
    "photo test"
   ]
  },
  {
   "cell_type": "markdown",
   "id": "5a0ad259",
   "metadata": {},
   "source": [
    "# Step 8"
   ]
  },
  {
   "cell_type": "markdown",
   "id": "a6b45b12",
   "metadata": {},
   "source": [
    "photo test"
   ]
  },
  {
   "cell_type": "markdown",
   "id": "5a1175d7",
   "metadata": {},
   "source": [
    "# Step 9"
   ]
  },
  {
   "cell_type": "markdown",
   "id": "c3f6a515",
   "metadata": {},
   "source": [
    "Существуют различные способы вызова кросс-валидации в sklearn, например\n",
    "\n",
    "cross_val_predict(estimator, x, y, cv=bar)\n",
    "где estimator - предсказывающая модель, а bar - число блоков при k-fold кросс-валидации или объект из sklearn.model_selection, позволяющий осуществлять кросс-валидацию по другой стратегии.\n",
    "Мы будем использовать другой способ - GridSearchCV (https://scikit-learn.org/stable/modules/generated/sklearn.model_selection.GridSearchCV.html), отбирающий лучшую модель по заданным параметрам, проводя кросс-валидацию."
   ]
  },
  {
   "cell_type": "markdown",
   "id": "44db83bb",
   "metadata": {},
   "source": [
    "# Step 10"
   ]
  },
  {
   "cell_type": "markdown",
   "id": "4992c223",
   "metadata": {},
   "source": [
    "Одно дерево - хорошо, но где гарантии, что оно является лучшим, или хотя бы близко к нему? Одним из способов найти более-менее оптимальный набор параметров дерева является перебор множества деревьев с разными параметрами и выбор подходящего.\n",
    "\n",
    "Для этой цели существует класс GridSearchCV, перебирающий каждое из сочетаний параметров среди заданных для модели, обучающий её на данных и проводящих кросс-валидацию. После этого в аттрибуте .best_estimator_ храниться модель с лучшими параметрами.\n",
    "Это применимо не только к деревьям, но и к другим моделям sklearn.\n",
    "\n",
    "Теперь задание - осуществите перебор всех деревьев на данных ириса по следующим параметрам:\n",
    "* максимальная глубина - от 1 до 10 уровней\n",
    "* минимальное число проб для разделения - от 2 до 10\n",
    "* минимальное число проб в листе - от 1 до 10\n",
    "\n",
    "и сохраните в переменную best_tree лучшее дерево. Переменную с GridSearchCV назовите search"
   ]
  },
  {
   "cell_type": "code",
   "execution_count": 32,
   "id": "733b6cf2",
   "metadata": {},
   "outputs": [
    {
     "name": "stdout",
     "output_type": "stream",
     "text": [
      "DecisionTreeClassifier(max_depth=3, min_samples_split=4)\n"
     ]
    }
   ],
   "source": [
    "import pandas as pd\n",
    "from sklearn.tree import DecisionTreeClassifier\n",
    "from sklearn.model_selection import GridSearchCV\n",
    "from sklearn.datasets import load_iris\n",
    "\n",
    "\n",
    "iris = load_iris()\n",
    "X = iris.data\n",
    "y = iris.target\n",
    "parameters = {'max_depth' : range(1, 10), 'min_samples_split' : range(2, 10), 'min_samples_leaf' : range(1, 10)}\n",
    "clf_tree = DecisionTreeClassifier()\n",
    "search = GridSearchCV(clf_tree, parameters, cv=5)\n",
    "search.fit(X, y)\n",
    "best_tree = search.best_estimator_\n",
    "print(best_tree)"
   ]
  },
  {
   "cell_type": "markdown",
   "id": "da98b899",
   "metadata": {},
   "source": [
    "# Step 11"
   ]
  },
  {
   "cell_type": "markdown",
   "id": "c23e3935",
   "metadata": {},
   "source": [
    "Чем больше данных, сложность модели и число её параметров, тем дольше будет вестись поиск GridSearchCV. Однако бывают случаи, когда модель нужна здесь и сейчас, и для этого есть RandomizedSearchCV (https://scikit-learn.org/stable/modules/generated/sklearn.model_selection.RandomizedSearchCV.html#sklearn.model_selection.RandomizedSearchCV)! Пробегаясь по рандомной подвыборке параметров, он ищет наиболее хорошую модель и делает это быстрее полного перебора параметров, хотя и может пропустить оптимальные параметры.\n",
    "\n",
    "Здесь (https://scikit-learn.org/stable/auto_examples/model_selection/plot_randomized_search.html#sphx-glr-auto-examples-model-selection-plot-randomized-search-py) можно посмотреть на сравнение этих поисков.\n",
    "\n",
    "Осуществим поиск по тем же параметрам что и в предыдущем задании с помощью RandomizedSearchCV\n",
    "\n",
    "максимальная глубина - от 1 до 10 уровней\n",
    "минимальное число проб для разделения - от 2 до 10\n",
    "минимальное число проб в листе - от 1 до 10\n",
    "Cохраните в переменную best_tree лучшее дерево. Переменную с RandomizedSearchCV назовите search"
   ]
  },
  {
   "cell_type": "code",
   "execution_count": 36,
   "id": "6f40c630",
   "metadata": {},
   "outputs": [
    {
     "name": "stdout",
     "output_type": "stream",
     "text": [
      "DecisionTreeClassifier(max_depth=8, min_samples_split=8)\n"
     ]
    }
   ],
   "source": [
    "import pandas as pd\n",
    "from sklearn.tree import DecisionTreeClassifier\n",
    "from sklearn.model_selection import RandomizedSearchCV\n",
    "from sklearn.datasets import load_iris\n",
    "\n",
    "\n",
    "iris = load_iris()\n",
    "X = iris.data\n",
    "y = iris.target\n",
    "\n",
    "parameters = {'max_depth' : range(1, 10), 'min_samples_split' : range(2, 10), 'min_samples_leaf' : range(1, 10)}\n",
    "clf_tree = DecisionTreeClassifier()\n",
    "search = RandomizedSearchCV(clf_tree, parameters, cv=5)\n",
    "search.fit(X, y)\n",
    "best_tree = search.best_estimator_\n",
    "print(best_tree)"
   ]
  },
  {
   "cell_type": "markdown",
   "id": "dc5cd493",
   "metadata": {},
   "source": [
    "# Step 12"
   ]
  },
  {
   "cell_type": "markdown",
   "id": "efdcc564",
   "metadata": {},
   "source": [
    "Воспользуемся изученными приёмами и попредсказываем!\n",
    "\n",
    "Даны 2 датасэта, к которым вы можете обращаться:\n",
    "\n",
    "    train - размеченный с известными правильным ответами (хранятся в колонке y)\n",
    "    test - набор, где нужно предсказать их\n",
    "Найдите дерево с наиболее подходящими параметрами с помощью GridSearchCV и предскажите с его помощью ответы ко 2-ому сэту! Границы параметров как раньше:\n",
    "\n",
    "максимальная глубина - от 1 до 10 уровней\n",
    "минимальное число проб для разделения - от 2 до 10\n",
    "минимальное число проб в листе - от 1 до 10\n",
    "Названия переменных тоже:лучшее дерево - best_tree, GridSearchCV - search, а предсказания - predictions"
   ]
  },
  {
   "cell_type": "code",
   "execution_count": null,
   "id": "b29c0c29",
   "metadata": {},
   "outputs": [],
   "source": [
    "import numpy as np\n",
    "import pandas as pd\n",
    "from sklearn.tree import DecisionTreeClassifier\n",
    "from sklearn.model_selection import GridSearchCV\n",
    "\n",
    "y = train[['y']]\n",
    "X = train.drop(['y'], axis=1)\n",
    "\n",
    "parameters = {'max_depth' : range(1, 10), 'min_samples_split' : range(2, 10), 'min_samples_leaf' : range(1, 10)}\n",
    "clf_tree = DecisionTreeClassifier()\n",
    "search = GridSearchCV(clf_tree, parameters, cv=5)\n",
    "search.fit(X, y)\n",
    "best_tree = search.best_estimator_\n",
    "predictions = best_tree.predict(test)"
   ]
  },
  {
   "cell_type": "markdown",
   "id": "f369cc15",
   "metadata": {},
   "source": [
    "# Step 13"
   ]
  },
  {
   "cell_type": "markdown",
   "id": "729a8a3f",
   "metadata": {},
   "source": [
    "При классификации модель может допускать ошибки, присваивая наблюдению неверный класс. Существуют различные метрики оценки качества предсказаний, которые базируются на 4-ёх параметрах - true positive, false positive, false negative и true negative, соответствующих тому какой класс был присвоен наблюдениям каждого из классов. Матрицу из 4-ёх (в случае бинарной классификации) этих параметров называют confusion matrix.\n",
    "\n",
    "В sklearn можно её удобно получить с помощью функции confusion_matrix. Вам даны 2 эррея с истинными классами наблюдений и предсказанными - y и predictions. Получите по ним confusion matrix (https://scikit-learn.org/stable/modules/generated/sklearn.metrics.confusion_matrix.html) и поместите её в переменную conf_matrix."
   ]
  },
  {
   "cell_type": "code",
   "execution_count": null,
   "id": "a3c4aaa1",
   "metadata": {},
   "outputs": [],
   "source": [
    "import pandas as pd\n",
    "from sklearn.metrics import confusion_matrix\n",
    "\n",
    "conf_matrix = confusion_matrix(y, predictions)"
   ]
  },
  {
   "cell_type": "markdown",
   "id": "a18e978e",
   "metadata": {},
   "source": [
    "# Step 14"
   ]
  },
  {
   "cell_type": "code",
   "execution_count": null,
   "id": "c9510faa",
   "metadata": {},
   "outputs": [],
   "source": [
    "import numpy as np\n",
    "import pandas as pd\n",
    "from sklearn.tree import DecisionTreeClassifier\n",
    "from sklearn.model_selection import GridSearchCV\n",
    "\n",
    "y = train[['y']]\n",
    "X = train.drop(['y'], axis=1)\n",
    "\n",
    "parameters = {'max_depth' : range(1, 10), 'min_samples_split' : range(2, 10), 'min_samples_leaf' : range(1, 10)}\n",
    "clf_tree = DecisionTreeClassifier()\n",
    "search = GridSearchCV(clf_tree, parameters, cv=5)\n",
    "search.fit(X, y)\n",
    "best_tree = search.best_estimator_\n",
    "predictions = best_tree.predict(test)"
   ]
  },
  {
   "cell_type": "markdown",
   "id": "eba595de",
   "metadata": {},
   "source": [
    "photo test"
   ]
  }
 ],
 "metadata": {
  "kernelspec": {
   "display_name": "Python 3 (ipykernel)",
   "language": "python",
   "name": "python3"
  },
  "language_info": {
   "codemirror_mode": {
    "name": "ipython",
    "version": 3
   },
   "file_extension": ".py",
   "mimetype": "text/x-python",
   "name": "python",
   "nbconvert_exporter": "python",
   "pygments_lexer": "ipython3",
   "version": "3.10.9"
  }
 },
 "nbformat": 4,
 "nbformat_minor": 5
}
